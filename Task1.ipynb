{
  "nbformat": 4,
  "nbformat_minor": 0,
  "metadata": {
    "colab": {
      "name": "Task1.ipynb",
      "provenance": []
    },
    "kernelspec": {
      "name": "python3",
      "display_name": "Python 3"
    }
  },
  "cells": [
    {
      "cell_type": "code",
      "metadata": {
        "id": "JMw7p2HRsny_"
      },
      "source": [
        "import tensorflow as tf\r\n",
        "print(\"Welcome to Brain Tumor Prdiction using Deep Learning\")"
      ],
      "execution_count": null,
      "outputs": []
    }
  ]
}